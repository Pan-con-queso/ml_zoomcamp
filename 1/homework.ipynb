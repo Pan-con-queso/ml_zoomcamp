{
 "cells": [
  {
   "cell_type": "code",
   "execution_count": 2,
   "metadata": {},
   "outputs": [
    {
     "name": "stdout",
     "output_type": "stream",
     "text": [
      "2.2.2\n"
     ]
    }
   ],
   "source": [
    "import pandas as pd\n",
    "print(pd.__version__)"
   ]
  },
  {
   "cell_type": "code",
   "execution_count": 57,
   "metadata": {},
   "outputs": [
    {
     "name": "stdout",
     "output_type": "stream",
     "text": [
      "Pandas version: 2.2.2\n",
      "Number of records: 2160\n",
      "Unique brands: 27\n",
      "Columns with null values: 3\n",
      "Max Final Price for Dell Laptops: 3936.0\n"
     ]
    }
   ],
   "source": [
    "# Read file\n",
    "laptops = pd.read_csv('laptops.csv')\n",
    "\n",
    "# Questions 1 to 5\n",
    "\n",
    "#pandas version\n",
    "print(f\"Pandas version: {pd.__version__}\")\n",
    "#Number of records\n",
    "print(f\"Number of records: {len(laptops)}\")\n",
    "# Unique brands\n",
    "print(f\"Unique brands: {len(laptops['Brand'].unique())}\")\n",
    "# Columns with null values\n",
    "print(f\"Columns with null values: {len(laptops.columns[laptops.isnull().any()])}\")\n",
    "# Max Final Price\n",
    "dell_laptops = laptops[laptops['Brand'] == 'Dell']\n",
    "print(f\"Max Final Price for Dell Laptops: {dell_laptops['Final Price'].max()}\")\n"
   ]
  },
  {
   "cell_type": "code",
   "execution_count": 34,
   "metadata": {},
   "outputs": [
    {
     "name": "stdout",
     "output_type": "stream",
     "text": [
      "Median value of Screen: 15.6\n",
      "Mode of Screen: 0    15.6\n",
      "Name: Screen, dtype: float64\n",
      "Median value of Screen after fill NaN: 15.6\n"
     ]
    }
   ],
   "source": [
    "#Question 6\n",
    "print(f\"Median value of Screen: {laptops['Screen'].median()}\")\n",
    "mode = laptops['Screen'].mode()\n",
    "print(f\"Mode of Screen: {laptops['Screen'].mode()}\")\n",
    "new_screen_column = laptops['Screen'].fillna(value=mode)\n",
    "print(f\"Median value of Screen after fill NaN: {new_screen_column.median()}\")"
   ]
  },
  {
   "cell_type": "code",
   "execution_count": 55,
   "metadata": {},
   "outputs": [
    {
     "name": "stdout",
     "output_type": "stream",
     "text": [
      "result of sum of all elements of w: 91.2998806299555\n"
     ]
    }
   ],
   "source": [
    "# Question 7\n",
    "import numpy as np\n",
    "\n",
    "innjoo_laptops = laptops[laptops['Brand'] == 'Innjoo']\n",
    "#Select columns\n",
    "innjoo_laptops = innjoo_laptops[['RAM', 'Storage', 'Screen']]\n",
    "#Get underlying array\n",
    "X = innjoo_laptops.values\n",
    "# Get matrix multiplication\n",
    "XTX = X.T.dot(X)\n",
    "inv_XTX = np.linalg.inv(XTX)\n",
    "# Define array y\n",
    "y = [1100, 1300, 800, 900, 1000, 1100]\n",
    "# Multiply the inverse of XTX with the transpose of X, and then multiply the result by y. Call the result w.\n",
    "w = inv_XTX.dot(X.T).dot(y)\n",
    "# What's the sum of all the elements of the result?\n",
    "print(f\"result of sum of all elements of w: {sum(w)}\")"
   ]
  }
 ],
 "metadata": {
  "kernelspec": {
   "display_name": "ml_test",
   "language": "python",
   "name": "python3"
  },
  "language_info": {
   "codemirror_mode": {
    "name": "ipython",
    "version": 3
   },
   "file_extension": ".py",
   "mimetype": "text/x-python",
   "name": "python",
   "nbconvert_exporter": "python",
   "pygments_lexer": "ipython3",
   "version": "3.12.4"
  }
 },
 "nbformat": 4,
 "nbformat_minor": 2
}
